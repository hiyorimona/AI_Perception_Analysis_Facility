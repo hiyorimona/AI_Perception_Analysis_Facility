{
 "cells": [
  {
   "cell_type": "code",
   "execution_count": null,
   "id": "fc5da52e",
   "metadata": {
    "is_executing": true
   },
   "outputs": [],
   "source": [
    "install.packages(\"broom\", type=\"binary\")\n",
    "install.packages(\"tidyverse\")\n",
    "install.packages(\"ordinal\")\n",
    "install.packages(\"rcompanion\")\n",
    "install.packages(\"MASS\")\n",
    "install.packages(\"brant\")\n",
    "library(dplyr)\n",
    "library(ordinal)\n",
    "library(rcompanion)\n",
    "library(MASS)\n",
    "library(brant)"
   ]
  },
  {
   "cell_type": "code",
   "execution_count": 3,
   "id": "a95ab12f",
   "metadata": {},
   "outputs": [],
   "source": [
    "df <- read.csv(\"clean_survey_num_11_10.csv\",header = TRUE,sep = \",\")"
   ]
  },
  {
   "cell_type": "code",
   "execution_count": 4,
   "id": "a94b5cd2",
   "metadata": {},
   "outputs": [
    {
     "data": {
      "text/html": [
       "<table>\n",
       "<thead><tr><th scope=col>demo_gender</th><th scope=col>demo_age</th><th scope=col>demo_domain</th><th scope=col>demo_year_study</th><th scope=col>demo_ai_know</th><th scope=col>ml_dl_famil</th><th scope=col>aware_dom</th><th scope=col>ai_courses</th><th scope=col>aware_everyday</th><th scope=col>used_ai</th><th scope=col>...</th><th scope=col>att_pos_4</th><th scope=col>att_neg_1</th><th scope=col>att_neg_2</th><th scope=col>att_neg_3</th><th scope=col>acc_1</th><th scope=col>acc_2</th><th scope=col>acc_3</th><th scope=col>acc_4</th><th scope=col>acc_5</th><th scope=col>acc_6</th></tr></thead>\n",
       "<tbody>\n",
       "\t<tr><td>1      </td><td>7      </td><td>8      </td><td>1,8    </td><td>4      </td><td>4      </td><td>5      </td><td>2      </td><td>4      </td><td>5      </td><td>...    </td><td>4      </td><td>1      </td><td>4      </td><td>1      </td><td>5      </td><td>5      </td><td>4      </td><td>5      </td><td>4      </td><td>4      </td></tr>\n",
       "\t<tr><td>2      </td><td>3      </td><td>8      </td><td>1,6,7,8</td><td>3      </td><td>2      </td><td>2      </td><td>3      </td><td>4      </td><td>5      </td><td>...    </td><td>5      </td><td>4      </td><td>3      </td><td>4      </td><td>4      </td><td>4      </td><td>4      </td><td>4      </td><td>5      </td><td>5      </td></tr>\n",
       "\t<tr><td>1      </td><td>2      </td><td>8      </td><td>8      </td><td>4      </td><td>4      </td><td>4      </td><td>1      </td><td>4      </td><td>4      </td><td>...    </td><td>4      </td><td>4      </td><td>3      </td><td>2      </td><td>4      </td><td>4      </td><td>4      </td><td>3      </td><td>4      </td><td>4      </td></tr>\n",
       "\t<tr><td>2      </td><td>2      </td><td>8      </td><td>1      </td><td>3      </td><td>2      </td><td>2      </td><td>1      </td><td>4      </td><td>2      </td><td>...    </td><td>2      </td><td>3      </td><td>2      </td><td>3      </td><td>2      </td><td>1      </td><td>2      </td><td>4      </td><td>2      </td><td>2      </td></tr>\n",
       "\t<tr><td>1      </td><td>2      </td><td>8      </td><td>8      </td><td>3      </td><td>4      </td><td>4      </td><td>2      </td><td>4      </td><td>5      </td><td>...    </td><td>5      </td><td>2      </td><td>5      </td><td>4      </td><td>2      </td><td>3      </td><td>4      </td><td>2      </td><td>3      </td><td>4      </td></tr>\n",
       "\t<tr><td>2      </td><td>2      </td><td>8      </td><td>6      </td><td>3      </td><td>2      </td><td>4      </td><td>2      </td><td>4      </td><td>4      </td><td>...    </td><td>4      </td><td>4      </td><td>3      </td><td>3      </td><td>2      </td><td>4      </td><td>2      </td><td>2      </td><td>4      </td><td>4      </td></tr>\n",
       "\t<tr><td>2      </td><td>2      </td><td>8      </td><td>8      </td><td>3      </td><td>4      </td><td>2      </td><td>1      </td><td>4      </td><td>1      </td><td>...    </td><td>4      </td><td>3      </td><td>4      </td><td>2      </td><td>4      </td><td>3      </td><td>4      </td><td>4      </td><td>5      </td><td>4      </td></tr>\n",
       "\t<tr><td>2      </td><td>2      </td><td>8      </td><td>7      </td><td>3      </td><td>2      </td><td>3      </td><td>1      </td><td>4      </td><td>2      </td><td>...    </td><td>4      </td><td>3      </td><td>4      </td><td>4      </td><td>3      </td><td>2      </td><td>4      </td><td>4      </td><td>4      </td><td>4      </td></tr>\n",
       "\t<tr><td>2      </td><td>2      </td><td>8      </td><td>8      </td><td>3      </td><td>1      </td><td>4      </td><td>2      </td><td>5      </td><td>3      </td><td>...    </td><td>4      </td><td>2      </td><td>2      </td><td>2      </td><td>1      </td><td>1      </td><td>2      </td><td>1      </td><td>1      </td><td>1      </td></tr>\n",
       "\t<tr><td>2      </td><td>2      </td><td>8      </td><td>1      </td><td>3      </td><td>5      </td><td>3      </td><td>5      </td><td>5      </td><td>2      </td><td>...    </td><td>2      </td><td>3      </td><td>5      </td><td>4      </td><td>2      </td><td>3      </td><td>1      </td><td>3      </td><td>3      </td><td>2      </td></tr>\n",
       "\t<tr><td>1      </td><td>2      </td><td>8      </td><td>1      </td><td>3      </td><td>2      </td><td>2      </td><td>1      </td><td>4      </td><td>2      </td><td>...    </td><td>5      </td><td>3      </td><td>2      </td><td>4      </td><td>3      </td><td>4      </td><td>2      </td><td>3      </td><td>3      </td><td>4      </td></tr>\n",
       "\t<tr><td>2      </td><td>2      </td><td>8      </td><td>1      </td><td>4      </td><td>3      </td><td>4      </td><td>3      </td><td>4      </td><td>4      </td><td>...    </td><td>4      </td><td>3      </td><td>3      </td><td>3      </td><td>3      </td><td>4      </td><td>4      </td><td>3      </td><td>3      </td><td>4      </td></tr>\n",
       "\t<tr><td>2      </td><td>2      </td><td>8      </td><td>7      </td><td>2      </td><td>2      </td><td>2      </td><td>3      </td><td>4      </td><td>3      </td><td>...    </td><td>4      </td><td>4      </td><td>2      </td><td>1      </td><td>4      </td><td>4      </td><td>5      </td><td>4      </td><td>4      </td><td>4      </td></tr>\n",
       "\t<tr><td>2      </td><td>2      </td><td>8      </td><td>1      </td><td>4      </td><td>4      </td><td>3      </td><td>2      </td><td>4      </td><td>3      </td><td>...    </td><td>2      </td><td>1      </td><td>2      </td><td>2      </td><td>5      </td><td>5      </td><td>5      </td><td>5      </td><td>4      </td><td>4      </td></tr>\n",
       "\t<tr><td>2      </td><td>2      </td><td>8      </td><td>6      </td><td>4      </td><td>2      </td><td>4      </td><td>4      </td><td>4      </td><td>2      </td><td>...    </td><td>4      </td><td>2      </td><td>4      </td><td>4      </td><td>4      </td><td>4      </td><td>4      </td><td>4      </td><td>4      </td><td>1      </td></tr>\n",
       "</tbody>\n",
       "</table>\n"
      ],
      "text/latex": [
       "\\begin{tabular}{r|lllllllllllllllllllllll}\n",
       " demo\\_gender & demo\\_age & demo\\_domain & demo\\_year\\_study & demo\\_ai\\_know & ml\\_dl\\_famil & aware\\_dom & ai\\_courses & aware\\_everyday & used\\_ai & ... & att\\_pos\\_4 & att\\_neg\\_1 & att\\_neg\\_2 & att\\_neg\\_3 & acc\\_1 & acc\\_2 & acc\\_3 & acc\\_4 & acc\\_5 & acc\\_6\\\\\n",
       "\\hline\n",
       "\t 1       & 7       & 8       & 1,8     & 4       & 4       & 5       & 2       & 4       & 5       & ...     & 4       & 1       & 4       & 1       & 5       & 5       & 4       & 5       & 4       & 4      \\\\\n",
       "\t 2       & 3       & 8       & 1,6,7,8 & 3       & 2       & 2       & 3       & 4       & 5       & ...     & 5       & 4       & 3       & 4       & 4       & 4       & 4       & 4       & 5       & 5      \\\\\n",
       "\t 1       & 2       & 8       & 8       & 4       & 4       & 4       & 1       & 4       & 4       & ...     & 4       & 4       & 3       & 2       & 4       & 4       & 4       & 3       & 4       & 4      \\\\\n",
       "\t 2       & 2       & 8       & 1       & 3       & 2       & 2       & 1       & 4       & 2       & ...     & 2       & 3       & 2       & 3       & 2       & 1       & 2       & 4       & 2       & 2      \\\\\n",
       "\t 1       & 2       & 8       & 8       & 3       & 4       & 4       & 2       & 4       & 5       & ...     & 5       & 2       & 5       & 4       & 2       & 3       & 4       & 2       & 3       & 4      \\\\\n",
       "\t 2       & 2       & 8       & 6       & 3       & 2       & 4       & 2       & 4       & 4       & ...     & 4       & 4       & 3       & 3       & 2       & 4       & 2       & 2       & 4       & 4      \\\\\n",
       "\t 2       & 2       & 8       & 8       & 3       & 4       & 2       & 1       & 4       & 1       & ...     & 4       & 3       & 4       & 2       & 4       & 3       & 4       & 4       & 5       & 4      \\\\\n",
       "\t 2       & 2       & 8       & 7       & 3       & 2       & 3       & 1       & 4       & 2       & ...     & 4       & 3       & 4       & 4       & 3       & 2       & 4       & 4       & 4       & 4      \\\\\n",
       "\t 2       & 2       & 8       & 8       & 3       & 1       & 4       & 2       & 5       & 3       & ...     & 4       & 2       & 2       & 2       & 1       & 1       & 2       & 1       & 1       & 1      \\\\\n",
       "\t 2       & 2       & 8       & 1       & 3       & 5       & 3       & 5       & 5       & 2       & ...     & 2       & 3       & 5       & 4       & 2       & 3       & 1       & 3       & 3       & 2      \\\\\n",
       "\t 1       & 2       & 8       & 1       & 3       & 2       & 2       & 1       & 4       & 2       & ...     & 5       & 3       & 2       & 4       & 3       & 4       & 2       & 3       & 3       & 4      \\\\\n",
       "\t 2       & 2       & 8       & 1       & 4       & 3       & 4       & 3       & 4       & 4       & ...     & 4       & 3       & 3       & 3       & 3       & 4       & 4       & 3       & 3       & 4      \\\\\n",
       "\t 2       & 2       & 8       & 7       & 2       & 2       & 2       & 3       & 4       & 3       & ...     & 4       & 4       & 2       & 1       & 4       & 4       & 5       & 4       & 4       & 4      \\\\\n",
       "\t 2       & 2       & 8       & 1       & 4       & 4       & 3       & 2       & 4       & 3       & ...     & 2       & 1       & 2       & 2       & 5       & 5       & 5       & 5       & 4       & 4      \\\\\n",
       "\t 2       & 2       & 8       & 6       & 4       & 2       & 4       & 4       & 4       & 2       & ...     & 4       & 2       & 4       & 4       & 4       & 4       & 4       & 4       & 4       & 1      \\\\\n",
       "\\end{tabular}\n"
      ],
      "text/markdown": [
       "\n",
       "| demo_gender | demo_age | demo_domain | demo_year_study | demo_ai_know | ml_dl_famil | aware_dom | ai_courses | aware_everyday | used_ai | ... | att_pos_4 | att_neg_1 | att_neg_2 | att_neg_3 | acc_1 | acc_2 | acc_3 | acc_4 | acc_5 | acc_6 |\n",
       "|---|---|---|---|---|---|---|---|---|---|---|---|---|---|---|---|---|---|---|---|---|\n",
       "| 1       | 7       | 8       | 1,8     | 4       | 4       | 5       | 2       | 4       | 5       | ...     | 4       | 1       | 4       | 1       | 5       | 5       | 4       | 5       | 4       | 4       |\n",
       "| 2       | 3       | 8       | 1,6,7,8 | 3       | 2       | 2       | 3       | 4       | 5       | ...     | 5       | 4       | 3       | 4       | 4       | 4       | 4       | 4       | 5       | 5       |\n",
       "| 1       | 2       | 8       | 8       | 4       | 4       | 4       | 1       | 4       | 4       | ...     | 4       | 4       | 3       | 2       | 4       | 4       | 4       | 3       | 4       | 4       |\n",
       "| 2       | 2       | 8       | 1       | 3       | 2       | 2       | 1       | 4       | 2       | ...     | 2       | 3       | 2       | 3       | 2       | 1       | 2       | 4       | 2       | 2       |\n",
       "| 1       | 2       | 8       | 8       | 3       | 4       | 4       | 2       | 4       | 5       | ...     | 5       | 2       | 5       | 4       | 2       | 3       | 4       | 2       | 3       | 4       |\n",
       "| 2       | 2       | 8       | 6       | 3       | 2       | 4       | 2       | 4       | 4       | ...     | 4       | 4       | 3       | 3       | 2       | 4       | 2       | 2       | 4       | 4       |\n",
       "| 2       | 2       | 8       | 8       | 3       | 4       | 2       | 1       | 4       | 1       | ...     | 4       | 3       | 4       | 2       | 4       | 3       | 4       | 4       | 5       | 4       |\n",
       "| 2       | 2       | 8       | 7       | 3       | 2       | 3       | 1       | 4       | 2       | ...     | 4       | 3       | 4       | 4       | 3       | 2       | 4       | 4       | 4       | 4       |\n",
       "| 2       | 2       | 8       | 8       | 3       | 1       | 4       | 2       | 5       | 3       | ...     | 4       | 2       | 2       | 2       | 1       | 1       | 2       | 1       | 1       | 1       |\n",
       "| 2       | 2       | 8       | 1       | 3       | 5       | 3       | 5       | 5       | 2       | ...     | 2       | 3       | 5       | 4       | 2       | 3       | 1       | 3       | 3       | 2       |\n",
       "| 1       | 2       | 8       | 1       | 3       | 2       | 2       | 1       | 4       | 2       | ...     | 5       | 3       | 2       | 4       | 3       | 4       | 2       | 3       | 3       | 4       |\n",
       "| 2       | 2       | 8       | 1       | 4       | 3       | 4       | 3       | 4       | 4       | ...     | 4       | 3       | 3       | 3       | 3       | 4       | 4       | 3       | 3       | 4       |\n",
       "| 2       | 2       | 8       | 7       | 2       | 2       | 2       | 3       | 4       | 3       | ...     | 4       | 4       | 2       | 1       | 4       | 4       | 5       | 4       | 4       | 4       |\n",
       "| 2       | 2       | 8       | 1       | 4       | 4       | 3       | 2       | 4       | 3       | ...     | 2       | 1       | 2       | 2       | 5       | 5       | 5       | 5       | 4       | 4       |\n",
       "| 2       | 2       | 8       | 6       | 4       | 2       | 4       | 4       | 4       | 2       | ...     | 4       | 2       | 4       | 4       | 4       | 4       | 4       | 4       | 4       | 1       |\n",
       "\n"
      ],
      "text/plain": [
       "   demo_gender demo_age demo_domain demo_year_study demo_ai_know ml_dl_famil\n",
       "1  1           7        8           1,8             4            4          \n",
       "2  2           3        8           1,6,7,8         3            2          \n",
       "3  1           2        8           8               4            4          \n",
       "4  2           2        8           1               3            2          \n",
       "5  1           2        8           8               3            4          \n",
       "6  2           2        8           6               3            2          \n",
       "7  2           2        8           8               3            4          \n",
       "8  2           2        8           7               3            2          \n",
       "9  2           2        8           8               3            1          \n",
       "10 2           2        8           1               3            5          \n",
       "11 1           2        8           1               3            2          \n",
       "12 2           2        8           1               4            3          \n",
       "13 2           2        8           7               2            2          \n",
       "14 2           2        8           1               4            4          \n",
       "15 2           2        8           6               4            2          \n",
       "   aware_dom ai_courses aware_everyday used_ai ... att_pos_4 att_neg_1\n",
       "1  5         2          4              5       ... 4         1        \n",
       "2  2         3          4              5       ... 5         4        \n",
       "3  4         1          4              4       ... 4         4        \n",
       "4  2         1          4              2       ... 2         3        \n",
       "5  4         2          4              5       ... 5         2        \n",
       "6  4         2          4              4       ... 4         4        \n",
       "7  2         1          4              1       ... 4         3        \n",
       "8  3         1          4              2       ... 4         3        \n",
       "9  4         2          5              3       ... 4         2        \n",
       "10 3         5          5              2       ... 2         3        \n",
       "11 2         1          4              2       ... 5         3        \n",
       "12 4         3          4              4       ... 4         3        \n",
       "13 2         3          4              3       ... 4         4        \n",
       "14 3         2          4              3       ... 2         1        \n",
       "15 4         4          4              2       ... 4         2        \n",
       "   att_neg_2 att_neg_3 acc_1 acc_2 acc_3 acc_4 acc_5 acc_6\n",
       "1  4         1         5     5     4     5     4     4    \n",
       "2  3         4         4     4     4     4     5     5    \n",
       "3  3         2         4     4     4     3     4     4    \n",
       "4  2         3         2     1     2     4     2     2    \n",
       "5  5         4         2     3     4     2     3     4    \n",
       "6  3         3         2     4     2     2     4     4    \n",
       "7  4         2         4     3     4     4     5     4    \n",
       "8  4         4         3     2     4     4     4     4    \n",
       "9  2         2         1     1     2     1     1     1    \n",
       "10 5         4         2     3     1     3     3     2    \n",
       "11 2         4         3     4     2     3     3     4    \n",
       "12 3         3         3     4     4     3     3     4    \n",
       "13 2         1         4     4     5     4     4     4    \n",
       "14 2         2         5     5     5     5     4     4    \n",
       "15 4         4         4     4     4     4     4     1    "
      ]
     },
     "metadata": {},
     "output_type": "display_data"
    }
   ],
   "source": [
    "df"
   ]
  }
 ],
 "metadata": {
  "kernelspec": {
   "display_name": "R",
   "language": "R",
   "name": "ir"
  },
  "language_info": {
   "codemirror_mode": "r",
   "file_extension": ".r",
   "mimetype": "text/x-r-source",
   "name": "R",
   "pygments_lexer": "r",
   "version": "3.6.1"
  }
 },
 "nbformat": 4,
 "nbformat_minor": 5
}
