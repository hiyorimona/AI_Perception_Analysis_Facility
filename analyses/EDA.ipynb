{
 "cells": [
  {
   "cell_type": "code",
   "execution_count": 6,
   "id": "fc5da52e",
   "metadata": {},
   "outputs": [
    {
     "name": "stdout",
     "output_type": "stream",
     "text": [
      "\n",
      "  There is a binary version available (and will be installed) but the\n",
      "  source version is later:\n",
      "      binary source\n",
      "broom  0.7.6  1.0.5\n",
      "\n",
      "package 'broom' successfully unpacked and MD5 sums checked\n",
      "\n",
      "The downloaded binary packages are in\n",
      "\tC:\\Users\\NITRO\\AppData\\Local\\Temp\\RtmpWowF38\\downloaded_packages\n"
     ]
    },
    {
     "name": "stderr",
     "output_type": "stream",
     "text": [
      "also installing the dependencies 'processx', 'xfun', 'lifecycle', 'tidyselect', 'vctrs', 'scales', 'gargle', 'timechange', 'systemfonts', 'vroom', 'callr', 'knitr', 'glue', 'broom', 'conflicted', 'cli', 'dbplyr', 'dplyr', 'dtplyr', 'forcats', 'ggplot2', 'googledrive', 'googlesheets4', 'haven', 'hms', 'jsonlite', 'lubridate', 'magrittr', 'modelr', 'pillar', 'purrr', 'ragg', 'readr', 'readxl', 'reprex', 'rlang', 'rvest', 'stringr', 'tibble', 'tidyr', 'xml2'\n",
      "\n"
     ]
    },
    {
     "name": "stdout",
     "output_type": "stream",
     "text": [
      "\n",
      "  There are binary versions available but the source versions are later:\n",
      "              binary source needs_compilation\n",
      "processx       3.5.2  3.8.2              TRUE\n",
      "xfun            0.22   0.40              TRUE\n",
      "lifecycle      1.0.0  1.0.3             FALSE\n",
      "tidyselect     1.1.1  1.2.0             FALSE\n",
      "vctrs          0.3.8  0.6.4              TRUE\n",
      "scales         1.1.1  1.2.1             FALSE\n",
      "gargle         1.1.0  1.5.2             FALSE\n",
      "timechange     0.0.2  0.2.0              TRUE\n",
      "systemfonts    1.0.2  1.0.5              TRUE\n",
      "vroom          1.4.0  1.6.4              TRUE\n",
      "callr          3.7.0  3.7.3             FALSE\n",
      "knitr           1.33   1.44             FALSE\n",
      "glue           1.4.2  1.6.2              TRUE\n",
      "broom          0.7.6  1.0.5             FALSE\n",
      "conflicted     1.0.4  1.2.0             FALSE\n",
      "cli            2.5.0  3.6.1              TRUE\n",
      "dbplyr         2.1.1  2.3.4             FALSE\n",
      "dplyr          1.0.6  1.1.3              TRUE\n",
      "dtplyr         1.1.0  1.3.1             FALSE\n",
      "forcats        0.5.1  1.0.0             FALSE\n",
      "ggplot2        3.3.3  3.4.4             FALSE\n",
      "googledrive    1.0.1  2.1.1             FALSE\n",
      "googlesheets4  0.3.0  1.1.1             FALSE\n",
      "haven          2.4.1  2.5.3              TRUE\n",
      "hms            1.0.0  1.1.3             FALSE\n",
      "jsonlite       1.7.2  1.8.7              TRUE\n",
      "lubridate     1.7.10  1.9.3              TRUE\n",
      "magrittr       2.0.1  2.0.3              TRUE\n",
      "modelr         0.1.8 0.1.11             FALSE\n",
      "pillar         1.6.0  1.9.0             FALSE\n",
      "purrr          0.3.4  1.0.2              TRUE\n",
      "ragg           1.1.2  1.2.6              TRUE\n",
      "readr          1.4.0  2.1.4              TRUE\n",
      "readxl         1.3.1  1.4.3              TRUE\n",
      "reprex         2.0.0  2.0.2             FALSE\n",
      "rlang         0.4.11  1.1.1              TRUE\n",
      "rvest          1.0.0  1.0.3             FALSE\n",
      "stringr        1.4.0  1.5.0             FALSE\n",
      "tibble         3.1.1  3.2.1              TRUE\n",
      "tidyr          1.1.3  1.3.0              TRUE\n",
      "xml2           1.3.2  1.3.5              TRUE\n",
      "tidyverse      1.3.1  2.0.0             FALSE\n",
      "\n",
      "  Binaries will be installed\n"
     ]
    },
    {
     "name": "stderr",
     "output_type": "stream",
     "text": [
      "Warning message:\n",
      "\"package 'dplyr' is in use and will not be installed\""
     ]
    },
    {
     "name": "stdout",
     "output_type": "stream",
     "text": [
      "package 'processx' successfully unpacked and MD5 sums checked\n",
      "package 'xfun' successfully unpacked and MD5 sums checked\n",
      "package 'vctrs' successfully unpacked and MD5 sums checked\n"
     ]
    },
    {
     "name": "stderr",
     "output_type": "stream",
     "text": [
      "Warning message:\n",
      "\"cannot remove prior installation of package 'vctrs'\"Warning message in file.copy(savedcopy, lib, recursive = TRUE):\n",
      "\"problem copying C:\\Users\\NITRO\\anaconda3\\Lib\\R\\library\\00LOCK\\vctrs\\libs\\x64\\vctrs.dll to C:\\Users\\NITRO\\anaconda3\\Lib\\R\\library\\vctrs\\libs\\x64\\vctrs.dll: Permission denied\"Warning message:\n",
      "\"restored 'vctrs'\""
     ]
    },
    {
     "name": "stdout",
     "output_type": "stream",
     "text": [
      "package 'timechange' successfully unpacked and MD5 sums checked\n",
      "package 'systemfonts' successfully unpacked and MD5 sums checked\n",
      "package 'vroom' successfully unpacked and MD5 sums checked\n",
      "package 'glue' successfully unpacked and MD5 sums checked\n"
     ]
    },
    {
     "name": "stderr",
     "output_type": "stream",
     "text": [
      "Warning message:\n",
      "\"cannot remove prior installation of package 'glue'\"Warning message in file.copy(savedcopy, lib, recursive = TRUE):\n",
      "\"problem copying C:\\Users\\NITRO\\anaconda3\\Lib\\R\\library\\00LOCK\\glue\\libs\\x64\\glue.dll to C:\\Users\\NITRO\\anaconda3\\Lib\\R\\library\\glue\\libs\\x64\\glue.dll: Permission denied\"Warning message:\n",
      "\"restored 'glue'\""
     ]
    },
    {
     "name": "stdout",
     "output_type": "stream",
     "text": [
      "package 'cli' successfully unpacked and MD5 sums checked\n",
      "package 'haven' successfully unpacked and MD5 sums checked\n",
      "package 'jsonlite' successfully unpacked and MD5 sums checked\n"
     ]
    },
    {
     "name": "stderr",
     "output_type": "stream",
     "text": [
      "Warning message:\n",
      "\"cannot remove prior installation of package 'jsonlite'\"Warning message in file.copy(savedcopy, lib, recursive = TRUE):\n",
      "\"problem copying C:\\Users\\NITRO\\anaconda3\\Lib\\R\\library\\00LOCK\\jsonlite\\libs\\x64\\jsonlite.dll to C:\\Users\\NITRO\\anaconda3\\Lib\\R\\library\\jsonlite\\libs\\x64\\jsonlite.dll: Permission denied\"Warning message:\n",
      "\"restored 'jsonlite'\""
     ]
    },
    {
     "name": "stdout",
     "output_type": "stream",
     "text": [
      "package 'lubridate' successfully unpacked and MD5 sums checked\n",
      "package 'magrittr' successfully unpacked and MD5 sums checked\n"
     ]
    },
    {
     "name": "stderr",
     "output_type": "stream",
     "text": [
      "Warning message:\n",
      "\"cannot remove prior installation of package 'magrittr'\"Warning message in file.copy(savedcopy, lib, recursive = TRUE):\n",
      "\"problem copying C:\\Users\\NITRO\\anaconda3\\Lib\\R\\library\\00LOCK\\magrittr\\libs\\x64\\magrittr.dll to C:\\Users\\NITRO\\anaconda3\\Lib\\R\\library\\magrittr\\libs\\x64\\magrittr.dll: Permission denied\"Warning message:\n",
      "\"restored 'magrittr'\""
     ]
    },
    {
     "name": "stdout",
     "output_type": "stream",
     "text": [
      "package 'purrr' successfully unpacked and MD5 sums checked\n"
     ]
    },
    {
     "name": "stderr",
     "output_type": "stream",
     "text": [
      "Warning message:\n",
      "\"cannot remove prior installation of package 'purrr'\"Warning message in file.copy(savedcopy, lib, recursive = TRUE):\n",
      "\"problem copying C:\\Users\\NITRO\\anaconda3\\Lib\\R\\library\\00LOCK\\purrr\\libs\\x64\\purrr.dll to C:\\Users\\NITRO\\anaconda3\\Lib\\R\\library\\purrr\\libs\\x64\\purrr.dll: Permission denied\"Warning message:\n",
      "\"restored 'purrr'\""
     ]
    },
    {
     "name": "stdout",
     "output_type": "stream",
     "text": [
      "package 'ragg' successfully unpacked and MD5 sums checked\n",
      "package 'readr' successfully unpacked and MD5 sums checked\n",
      "package 'readxl' successfully unpacked and MD5 sums checked\n",
      "package 'rlang' successfully unpacked and MD5 sums checked\n"
     ]
    },
    {
     "name": "stderr",
     "output_type": "stream",
     "text": [
      "Warning message:\n",
      "\"cannot remove prior installation of package 'rlang'\"Warning message in file.copy(savedcopy, lib, recursive = TRUE):\n",
      "\"problem copying C:\\Users\\NITRO\\anaconda3\\Lib\\R\\library\\00LOCK\\rlang\\libs\\x64\\rlang.dll to C:\\Users\\NITRO\\anaconda3\\Lib\\R\\library\\rlang\\libs\\x64\\rlang.dll: Permission denied\"Warning message:\n",
      "\"restored 'rlang'\""
     ]
    },
    {
     "name": "stdout",
     "output_type": "stream",
     "text": [
      "package 'tibble' successfully unpacked and MD5 sums checked\n"
     ]
    },
    {
     "name": "stderr",
     "output_type": "stream",
     "text": [
      "Warning message:\n",
      "\"cannot remove prior installation of package 'tibble'\"Warning message in file.copy(savedcopy, lib, recursive = TRUE):\n",
      "\"problem copying C:\\Users\\NITRO\\anaconda3\\Lib\\R\\library\\00LOCK\\tibble\\libs\\x64\\tibble.dll to C:\\Users\\NITRO\\anaconda3\\Lib\\R\\library\\tibble\\libs\\x64\\tibble.dll: Permission denied\"Warning message:\n",
      "\"restored 'tibble'\""
     ]
    },
    {
     "name": "stdout",
     "output_type": "stream",
     "text": [
      "package 'tidyr' successfully unpacked and MD5 sums checked\n",
      "package 'xml2' successfully unpacked and MD5 sums checked\n",
      "\n",
      "The downloaded binary packages are in\n",
      "\tC:\\Users\\NITRO\\AppData\\Local\\Temp\\RtmpWowF38\\downloaded_packages\n"
     ]
    },
    {
     "name": "stderr",
     "output_type": "stream",
     "text": [
      "installing the source packages 'lifecycle', 'tidyselect', 'scales', 'gargle', 'callr', 'knitr', 'broom', 'conflicted', 'dbplyr', 'dtplyr', 'forcats', 'ggplot2', 'googledrive', 'googlesheets4', 'hms', 'modelr', 'pillar', 'reprex', 'rvest', 'stringr', 'tidyverse'\n",
      "\n",
      "Warning message in install.packages(\"tidyverse\"):\n",
      "\"installation of package 'lifecycle' had non-zero exit status\"Warning message in install.packages(\"tidyverse\"):\n",
      "\"installation of package 'callr' had non-zero exit status\"Warning message in install.packages(\"tidyverse\"):\n",
      "\"installation of package 'knitr' had non-zero exit status\"Warning message in install.packages(\"tidyverse\"):\n",
      "\"installation of package 'conflicted' had non-zero exit status\"Warning message in install.packages(\"tidyverse\"):\n",
      "\"installation of package 'tidyselect' had non-zero exit status\"Warning message in install.packages(\"tidyverse\"):\n",
      "\"installation of package 'scales' had non-zero exit status\"Warning message in install.packages(\"tidyverse\"):\n",
      "\"installation of package 'gargle' had non-zero exit status\"Warning message in install.packages(\"tidyverse\"):\n",
      "\"installation of package 'forcats' had non-zero exit status\"Warning message in install.packages(\"tidyverse\"):\n",
      "\"installation of package 'hms' had non-zero exit status\"Warning message in install.packages(\"tidyverse\"):\n",
      "\"installation of package 'pillar' had non-zero exit status\"Warning message in install.packages(\"tidyverse\"):\n",
      "\"installation of package 'reprex' had non-zero exit status\"Warning message in install.packages(\"tidyverse\"):\n",
      "\"installation of package 'rvest' had non-zero exit status\"Warning message in install.packages(\"tidyverse\"):\n",
      "\"installation of package 'stringr' had non-zero exit status\"Warning message in install.packages(\"tidyverse\"):\n",
      "\"installation of package 'dbplyr' had non-zero exit status\"Warning message in install.packages(\"tidyverse\"):\n",
      "\"installation of package 'dtplyr' had non-zero exit status\"Warning message in install.packages(\"tidyverse\"):\n",
      "\"installation of package 'ggplot2' had non-zero exit status\"Warning message in install.packages(\"tidyverse\"):\n",
      "\"installation of package 'googledrive' had non-zero exit status\"Warning message in install.packages(\"tidyverse\"):\n",
      "\"installation of package 'googlesheets4' had non-zero exit status\"Warning message in install.packages(\"tidyverse\"):\n",
      "\"installation of package 'modelr' had non-zero exit status\"Warning message in install.packages(\"tidyverse\"):\n",
      "\"installation of package 'tidyverse' had non-zero exit status\""
     ]
    },
    {
     "name": "stdout",
     "output_type": "stream",
     "text": [
      "\n",
      "  There is a binary version available but the source version is later:\n",
      "            binary     source needs_compilation\n",
      "ordinal 2019.12-10 2022.11-16              TRUE\n",
      "\n",
      "  Binaries will be installed\n"
     ]
    },
    {
     "name": "stderr",
     "output_type": "stream",
     "text": [
      "Warning message:\n",
      "\"package 'ordinal' is in use and will not be installed\"Warning message:\n",
      "\"package 'rcompanion' is not available (for R version 3.6.1)\"Warning message:\n",
      "\"package 'MASS' is not available (for R version 3.6.1)\""
     ]
    },
    {
     "name": "stdout",
     "output_type": "stream",
     "text": [
      "package 'brant' successfully unpacked and MD5 sums checked\n",
      "\n",
      "The downloaded binary packages are in\n",
      "\tC:\\Users\\NITRO\\AppData\\Local\\Temp\\RtmpWowF38\\downloaded_packages\n"
     ]
    },
    {
     "ename": "ERROR",
     "evalue": "Error in library(rcompanion): there is no package called 'rcompanion'\n",
     "output_type": "error",
     "traceback": [
      "Error in library(rcompanion): there is no package called 'rcompanion'\nTraceback:\n",
      "1. library(rcompanion)"
     ]
    }
   ],
   "source": [
    "install.packages(\"broom\", type=\"binary\")\n",
    "install.packages(\"tidyverse\")\n",
    "install.packages(\"ordinal\")\n",
    "install.packages(\"rcompanion\")\n",
    "install.packages(\"MASS\")\n",
    "install.packages(\"brant\")\n",
    "library(dplyr)\n",
    "library(ordinal)\n",
    "library(rcompanion)\n",
    "library(MASS)\n",
    "library(brant)"
   ]
  },
  {
   "cell_type": "code",
   "execution_count": 3,
   "id": "a95ab12f",
   "metadata": {},
   "outputs": [],
   "source": [
    "df <- read.csv(\"clean_survey_num_11_10.csv\",header = TRUE,sep = \",\")"
   ]
  },
  {
   "cell_type": "code",
   "execution_count": 4,
   "id": "a94b5cd2",
   "metadata": {},
   "outputs": [
    {
     "data": {
      "text/html": [
       "<table>\n",
       "<thead><tr><th scope=col>demo_gender</th><th scope=col>demo_age</th><th scope=col>demo_domain</th><th scope=col>demo_year_study</th><th scope=col>demo_ai_know</th><th scope=col>ml_dl_famil</th><th scope=col>aware_dom</th><th scope=col>ai_courses</th><th scope=col>aware_everyday</th><th scope=col>used_ai</th><th scope=col>...</th><th scope=col>att_pos_4</th><th scope=col>att_neg_1</th><th scope=col>att_neg_2</th><th scope=col>att_neg_3</th><th scope=col>acc_1</th><th scope=col>acc_2</th><th scope=col>acc_3</th><th scope=col>acc_4</th><th scope=col>acc_5</th><th scope=col>acc_6</th></tr></thead>\n",
       "<tbody>\n",
       "\t<tr><td>1      </td><td>7      </td><td>8      </td><td>1,8    </td><td>4      </td><td>4      </td><td>5      </td><td>2      </td><td>4      </td><td>5      </td><td>...    </td><td>4      </td><td>1      </td><td>4      </td><td>1      </td><td>5      </td><td>5      </td><td>4      </td><td>5      </td><td>4      </td><td>4      </td></tr>\n",
       "\t<tr><td>2      </td><td>3      </td><td>8      </td><td>1,6,7,8</td><td>3      </td><td>2      </td><td>2      </td><td>3      </td><td>4      </td><td>5      </td><td>...    </td><td>5      </td><td>4      </td><td>3      </td><td>4      </td><td>4      </td><td>4      </td><td>4      </td><td>4      </td><td>5      </td><td>5      </td></tr>\n",
       "\t<tr><td>1      </td><td>2      </td><td>8      </td><td>8      </td><td>4      </td><td>4      </td><td>4      </td><td>1      </td><td>4      </td><td>4      </td><td>...    </td><td>4      </td><td>4      </td><td>3      </td><td>2      </td><td>4      </td><td>4      </td><td>4      </td><td>3      </td><td>4      </td><td>4      </td></tr>\n",
       "\t<tr><td>2      </td><td>2      </td><td>8      </td><td>1      </td><td>3      </td><td>2      </td><td>2      </td><td>1      </td><td>4      </td><td>2      </td><td>...    </td><td>2      </td><td>3      </td><td>2      </td><td>3      </td><td>2      </td><td>1      </td><td>2      </td><td>4      </td><td>2      </td><td>2      </td></tr>\n",
       "\t<tr><td>1      </td><td>2      </td><td>8      </td><td>8      </td><td>3      </td><td>4      </td><td>4      </td><td>2      </td><td>4      </td><td>5      </td><td>...    </td><td>5      </td><td>2      </td><td>5      </td><td>4      </td><td>2      </td><td>3      </td><td>4      </td><td>2      </td><td>3      </td><td>4      </td></tr>\n",
       "\t<tr><td>2      </td><td>2      </td><td>8      </td><td>6      </td><td>3      </td><td>2      </td><td>4      </td><td>2      </td><td>4      </td><td>4      </td><td>...    </td><td>4      </td><td>4      </td><td>3      </td><td>3      </td><td>2      </td><td>4      </td><td>2      </td><td>2      </td><td>4      </td><td>4      </td></tr>\n",
       "\t<tr><td>2      </td><td>2      </td><td>8      </td><td>8      </td><td>3      </td><td>4      </td><td>2      </td><td>1      </td><td>4      </td><td>1      </td><td>...    </td><td>4      </td><td>3      </td><td>4      </td><td>2      </td><td>4      </td><td>3      </td><td>4      </td><td>4      </td><td>5      </td><td>4      </td></tr>\n",
       "\t<tr><td>2      </td><td>2      </td><td>8      </td><td>7      </td><td>3      </td><td>2      </td><td>3      </td><td>1      </td><td>4      </td><td>2      </td><td>...    </td><td>4      </td><td>3      </td><td>4      </td><td>4      </td><td>3      </td><td>2      </td><td>4      </td><td>4      </td><td>4      </td><td>4      </td></tr>\n",
       "\t<tr><td>2      </td><td>2      </td><td>8      </td><td>8      </td><td>3      </td><td>1      </td><td>4      </td><td>2      </td><td>5      </td><td>3      </td><td>...    </td><td>4      </td><td>2      </td><td>2      </td><td>2      </td><td>1      </td><td>1      </td><td>2      </td><td>1      </td><td>1      </td><td>1      </td></tr>\n",
       "\t<tr><td>2      </td><td>2      </td><td>8      </td><td>1      </td><td>3      </td><td>5      </td><td>3      </td><td>5      </td><td>5      </td><td>2      </td><td>...    </td><td>2      </td><td>3      </td><td>5      </td><td>4      </td><td>2      </td><td>3      </td><td>1      </td><td>3      </td><td>3      </td><td>2      </td></tr>\n",
       "\t<tr><td>1      </td><td>2      </td><td>8      </td><td>1      </td><td>3      </td><td>2      </td><td>2      </td><td>1      </td><td>4      </td><td>2      </td><td>...    </td><td>5      </td><td>3      </td><td>2      </td><td>4      </td><td>3      </td><td>4      </td><td>2      </td><td>3      </td><td>3      </td><td>4      </td></tr>\n",
       "\t<tr><td>2      </td><td>2      </td><td>8      </td><td>1      </td><td>4      </td><td>3      </td><td>4      </td><td>3      </td><td>4      </td><td>4      </td><td>...    </td><td>4      </td><td>3      </td><td>3      </td><td>3      </td><td>3      </td><td>4      </td><td>4      </td><td>3      </td><td>3      </td><td>4      </td></tr>\n",
       "\t<tr><td>2      </td><td>2      </td><td>8      </td><td>7      </td><td>2      </td><td>2      </td><td>2      </td><td>3      </td><td>4      </td><td>3      </td><td>...    </td><td>4      </td><td>4      </td><td>2      </td><td>1      </td><td>4      </td><td>4      </td><td>5      </td><td>4      </td><td>4      </td><td>4      </td></tr>\n",
       "\t<tr><td>2      </td><td>2      </td><td>8      </td><td>1      </td><td>4      </td><td>4      </td><td>3      </td><td>2      </td><td>4      </td><td>3      </td><td>...    </td><td>2      </td><td>1      </td><td>2      </td><td>2      </td><td>5      </td><td>5      </td><td>5      </td><td>5      </td><td>4      </td><td>4      </td></tr>\n",
       "\t<tr><td>2      </td><td>2      </td><td>8      </td><td>6      </td><td>4      </td><td>2      </td><td>4      </td><td>4      </td><td>4      </td><td>2      </td><td>...    </td><td>4      </td><td>2      </td><td>4      </td><td>4      </td><td>4      </td><td>4      </td><td>4      </td><td>4      </td><td>4      </td><td>1      </td></tr>\n",
       "</tbody>\n",
       "</table>\n"
      ],
      "text/latex": [
       "\\begin{tabular}{r|lllllllllllllllllllllll}\n",
       " demo\\_gender & demo\\_age & demo\\_domain & demo\\_year\\_study & demo\\_ai\\_know & ml\\_dl\\_famil & aware\\_dom & ai\\_courses & aware\\_everyday & used\\_ai & ... & att\\_pos\\_4 & att\\_neg\\_1 & att\\_neg\\_2 & att\\_neg\\_3 & acc\\_1 & acc\\_2 & acc\\_3 & acc\\_4 & acc\\_5 & acc\\_6\\\\\n",
       "\\hline\n",
       "\t 1       & 7       & 8       & 1,8     & 4       & 4       & 5       & 2       & 4       & 5       & ...     & 4       & 1       & 4       & 1       & 5       & 5       & 4       & 5       & 4       & 4      \\\\\n",
       "\t 2       & 3       & 8       & 1,6,7,8 & 3       & 2       & 2       & 3       & 4       & 5       & ...     & 5       & 4       & 3       & 4       & 4       & 4       & 4       & 4       & 5       & 5      \\\\\n",
       "\t 1       & 2       & 8       & 8       & 4       & 4       & 4       & 1       & 4       & 4       & ...     & 4       & 4       & 3       & 2       & 4       & 4       & 4       & 3       & 4       & 4      \\\\\n",
       "\t 2       & 2       & 8       & 1       & 3       & 2       & 2       & 1       & 4       & 2       & ...     & 2       & 3       & 2       & 3       & 2       & 1       & 2       & 4       & 2       & 2      \\\\\n",
       "\t 1       & 2       & 8       & 8       & 3       & 4       & 4       & 2       & 4       & 5       & ...     & 5       & 2       & 5       & 4       & 2       & 3       & 4       & 2       & 3       & 4      \\\\\n",
       "\t 2       & 2       & 8       & 6       & 3       & 2       & 4       & 2       & 4       & 4       & ...     & 4       & 4       & 3       & 3       & 2       & 4       & 2       & 2       & 4       & 4      \\\\\n",
       "\t 2       & 2       & 8       & 8       & 3       & 4       & 2       & 1       & 4       & 1       & ...     & 4       & 3       & 4       & 2       & 4       & 3       & 4       & 4       & 5       & 4      \\\\\n",
       "\t 2       & 2       & 8       & 7       & 3       & 2       & 3       & 1       & 4       & 2       & ...     & 4       & 3       & 4       & 4       & 3       & 2       & 4       & 4       & 4       & 4      \\\\\n",
       "\t 2       & 2       & 8       & 8       & 3       & 1       & 4       & 2       & 5       & 3       & ...     & 4       & 2       & 2       & 2       & 1       & 1       & 2       & 1       & 1       & 1      \\\\\n",
       "\t 2       & 2       & 8       & 1       & 3       & 5       & 3       & 5       & 5       & 2       & ...     & 2       & 3       & 5       & 4       & 2       & 3       & 1       & 3       & 3       & 2      \\\\\n",
       "\t 1       & 2       & 8       & 1       & 3       & 2       & 2       & 1       & 4       & 2       & ...     & 5       & 3       & 2       & 4       & 3       & 4       & 2       & 3       & 3       & 4      \\\\\n",
       "\t 2       & 2       & 8       & 1       & 4       & 3       & 4       & 3       & 4       & 4       & ...     & 4       & 3       & 3       & 3       & 3       & 4       & 4       & 3       & 3       & 4      \\\\\n",
       "\t 2       & 2       & 8       & 7       & 2       & 2       & 2       & 3       & 4       & 3       & ...     & 4       & 4       & 2       & 1       & 4       & 4       & 5       & 4       & 4       & 4      \\\\\n",
       "\t 2       & 2       & 8       & 1       & 4       & 4       & 3       & 2       & 4       & 3       & ...     & 2       & 1       & 2       & 2       & 5       & 5       & 5       & 5       & 4       & 4      \\\\\n",
       "\t 2       & 2       & 8       & 6       & 4       & 2       & 4       & 4       & 4       & 2       & ...     & 4       & 2       & 4       & 4       & 4       & 4       & 4       & 4       & 4       & 1      \\\\\n",
       "\\end{tabular}\n"
      ],
      "text/markdown": [
       "\n",
       "| demo_gender | demo_age | demo_domain | demo_year_study | demo_ai_know | ml_dl_famil | aware_dom | ai_courses | aware_everyday | used_ai | ... | att_pos_4 | att_neg_1 | att_neg_2 | att_neg_3 | acc_1 | acc_2 | acc_3 | acc_4 | acc_5 | acc_6 |\n",
       "|---|---|---|---|---|---|---|---|---|---|---|---|---|---|---|---|---|---|---|---|---|\n",
       "| 1       | 7       | 8       | 1,8     | 4       | 4       | 5       | 2       | 4       | 5       | ...     | 4       | 1       | 4       | 1       | 5       | 5       | 4       | 5       | 4       | 4       |\n",
       "| 2       | 3       | 8       | 1,6,7,8 | 3       | 2       | 2       | 3       | 4       | 5       | ...     | 5       | 4       | 3       | 4       | 4       | 4       | 4       | 4       | 5       | 5       |\n",
       "| 1       | 2       | 8       | 8       | 4       | 4       | 4       | 1       | 4       | 4       | ...     | 4       | 4       | 3       | 2       | 4       | 4       | 4       | 3       | 4       | 4       |\n",
       "| 2       | 2       | 8       | 1       | 3       | 2       | 2       | 1       | 4       | 2       | ...     | 2       | 3       | 2       | 3       | 2       | 1       | 2       | 4       | 2       | 2       |\n",
       "| 1       | 2       | 8       | 8       | 3       | 4       | 4       | 2       | 4       | 5       | ...     | 5       | 2       | 5       | 4       | 2       | 3       | 4       | 2       | 3       | 4       |\n",
       "| 2       | 2       | 8       | 6       | 3       | 2       | 4       | 2       | 4       | 4       | ...     | 4       | 4       | 3       | 3       | 2       | 4       | 2       | 2       | 4       | 4       |\n",
       "| 2       | 2       | 8       | 8       | 3       | 4       | 2       | 1       | 4       | 1       | ...     | 4       | 3       | 4       | 2       | 4       | 3       | 4       | 4       | 5       | 4       |\n",
       "| 2       | 2       | 8       | 7       | 3       | 2       | 3       | 1       | 4       | 2       | ...     | 4       | 3       | 4       | 4       | 3       | 2       | 4       | 4       | 4       | 4       |\n",
       "| 2       | 2       | 8       | 8       | 3       | 1       | 4       | 2       | 5       | 3       | ...     | 4       | 2       | 2       | 2       | 1       | 1       | 2       | 1       | 1       | 1       |\n",
       "| 2       | 2       | 8       | 1       | 3       | 5       | 3       | 5       | 5       | 2       | ...     | 2       | 3       | 5       | 4       | 2       | 3       | 1       | 3       | 3       | 2       |\n",
       "| 1       | 2       | 8       | 1       | 3       | 2       | 2       | 1       | 4       | 2       | ...     | 5       | 3       | 2       | 4       | 3       | 4       | 2       | 3       | 3       | 4       |\n",
       "| 2       | 2       | 8       | 1       | 4       | 3       | 4       | 3       | 4       | 4       | ...     | 4       | 3       | 3       | 3       | 3       | 4       | 4       | 3       | 3       | 4       |\n",
       "| 2       | 2       | 8       | 7       | 2       | 2       | 2       | 3       | 4       | 3       | ...     | 4       | 4       | 2       | 1       | 4       | 4       | 5       | 4       | 4       | 4       |\n",
       "| 2       | 2       | 8       | 1       | 4       | 4       | 3       | 2       | 4       | 3       | ...     | 2       | 1       | 2       | 2       | 5       | 5       | 5       | 5       | 4       | 4       |\n",
       "| 2       | 2       | 8       | 6       | 4       | 2       | 4       | 4       | 4       | 2       | ...     | 4       | 2       | 4       | 4       | 4       | 4       | 4       | 4       | 4       | 1       |\n",
       "\n"
      ],
      "text/plain": [
       "   demo_gender demo_age demo_domain demo_year_study demo_ai_know ml_dl_famil\n",
       "1  1           7        8           1,8             4            4          \n",
       "2  2           3        8           1,6,7,8         3            2          \n",
       "3  1           2        8           8               4            4          \n",
       "4  2           2        8           1               3            2          \n",
       "5  1           2        8           8               3            4          \n",
       "6  2           2        8           6               3            2          \n",
       "7  2           2        8           8               3            4          \n",
       "8  2           2        8           7               3            2          \n",
       "9  2           2        8           8               3            1          \n",
       "10 2           2        8           1               3            5          \n",
       "11 1           2        8           1               3            2          \n",
       "12 2           2        8           1               4            3          \n",
       "13 2           2        8           7               2            2          \n",
       "14 2           2        8           1               4            4          \n",
       "15 2           2        8           6               4            2          \n",
       "   aware_dom ai_courses aware_everyday used_ai ... att_pos_4 att_neg_1\n",
       "1  5         2          4              5       ... 4         1        \n",
       "2  2         3          4              5       ... 5         4        \n",
       "3  4         1          4              4       ... 4         4        \n",
       "4  2         1          4              2       ... 2         3        \n",
       "5  4         2          4              5       ... 5         2        \n",
       "6  4         2          4              4       ... 4         4        \n",
       "7  2         1          4              1       ... 4         3        \n",
       "8  3         1          4              2       ... 4         3        \n",
       "9  4         2          5              3       ... 4         2        \n",
       "10 3         5          5              2       ... 2         3        \n",
       "11 2         1          4              2       ... 5         3        \n",
       "12 4         3          4              4       ... 4         3        \n",
       "13 2         3          4              3       ... 4         4        \n",
       "14 3         2          4              3       ... 2         1        \n",
       "15 4         4          4              2       ... 4         2        \n",
       "   att_neg_2 att_neg_3 acc_1 acc_2 acc_3 acc_4 acc_5 acc_6\n",
       "1  4         1         5     5     4     5     4     4    \n",
       "2  3         4         4     4     4     4     5     5    \n",
       "3  3         2         4     4     4     3     4     4    \n",
       "4  2         3         2     1     2     4     2     2    \n",
       "5  5         4         2     3     4     2     3     4    \n",
       "6  3         3         2     4     2     2     4     4    \n",
       "7  4         2         4     3     4     4     5     4    \n",
       "8  4         4         3     2     4     4     4     4    \n",
       "9  2         2         1     1     2     1     1     1    \n",
       "10 5         4         2     3     1     3     3     2    \n",
       "11 2         4         3     4     2     3     3     4    \n",
       "12 3         3         3     4     4     3     3     4    \n",
       "13 2         1         4     4     5     4     4     4    \n",
       "14 2         2         5     5     5     5     4     4    \n",
       "15 4         4         4     4     4     4     4     1    "
      ]
     },
     "metadata": {},
     "output_type": "display_data"
    }
   ],
   "source": [
    "df"
   ]
  },
  {
   "cell_type": "code",
   "execution_count": null,
   "id": "559130c3",
   "metadata": {},
   "outputs": [],
   "source": []
  }
 ],
 "metadata": {
  "kernelspec": {
   "display_name": "R",
   "language": "R",
   "name": "ir"
  },
  "language_info": {
   "codemirror_mode": "r",
   "file_extension": ".r",
   "mimetype": "text/x-r-source",
   "name": "R",
   "pygments_lexer": "r",
   "version": "3.6.1"
  }
 },
 "nbformat": 4,
 "nbformat_minor": 5
}
